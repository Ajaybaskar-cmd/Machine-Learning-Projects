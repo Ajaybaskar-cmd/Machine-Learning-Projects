{
 "cells": [
  {
   "cell_type": "code",
   "execution_count": 2,
   "metadata": {},
   "outputs": [
    {
     "ename": "",
     "evalue": "",
     "output_type": "error",
     "traceback": [
      "\u001b[1;31mFailed to start the Kernel. \n",
      "\u001b[1;31mUnable to start Kernel 'Python 3.11.2' due to a timeout waiting for the ports to get used. \n",
      "\u001b[1;31mView Jupyter <a href='command:jupyter.viewOutput'>log</a> for further details."
     ]
    }
   ],
   "source": [
    "#importing libraries\n",
    "import pandas as pd\n",
    "import numpy as np\n",
    "import seaborn as sns\n",
    "import matplotlib.pyplot as plt\n",
    "from sklearn.model_selection import train_test_split\n",
    "from sklearn import metrics"
   ]
  },
  {
   "cell_type": "code",
   "execution_count": 3,
   "metadata": {},
   "outputs": [
    {
     "data": {
      "text/html": [
       "<div>\n",
       "<style scoped>\n",
       "    .dataframe tbody tr th:only-of-type {\n",
       "        vertical-align: middle;\n",
       "    }\n",
       "\n",
       "    .dataframe tbody tr th {\n",
       "        vertical-align: top;\n",
       "    }\n",
       "\n",
       "    .dataframe thead th {\n",
       "        text-align: right;\n",
       "    }\n",
       "</style>\n",
       "<table border=\"1\" class=\"dataframe\">\n",
       "  <thead>\n",
       "    <tr style=\"text-align: right;\">\n",
       "      <th></th>\n",
       "      <th>Date</th>\n",
       "      <th>SPX</th>\n",
       "      <th>GLD</th>\n",
       "      <th>USO</th>\n",
       "      <th>SLV</th>\n",
       "      <th>EUR/USD</th>\n",
       "    </tr>\n",
       "  </thead>\n",
       "  <tbody>\n",
       "    <tr>\n",
       "      <th>0</th>\n",
       "      <td>1/2/2008</td>\n",
       "      <td>1447.160034</td>\n",
       "      <td>84.860001</td>\n",
       "      <td>78.470001</td>\n",
       "      <td>15.180</td>\n",
       "      <td>1.471692</td>\n",
       "    </tr>\n",
       "    <tr>\n",
       "      <th>1</th>\n",
       "      <td>1/3/2008</td>\n",
       "      <td>1447.160034</td>\n",
       "      <td>85.570000</td>\n",
       "      <td>78.370003</td>\n",
       "      <td>15.285</td>\n",
       "      <td>1.474491</td>\n",
       "    </tr>\n",
       "    <tr>\n",
       "      <th>2</th>\n",
       "      <td>1/4/2008</td>\n",
       "      <td>1411.630005</td>\n",
       "      <td>85.129997</td>\n",
       "      <td>77.309998</td>\n",
       "      <td>15.167</td>\n",
       "      <td>1.475492</td>\n",
       "    </tr>\n",
       "    <tr>\n",
       "      <th>3</th>\n",
       "      <td>1/7/2008</td>\n",
       "      <td>1416.180054</td>\n",
       "      <td>84.769997</td>\n",
       "      <td>75.500000</td>\n",
       "      <td>15.053</td>\n",
       "      <td>1.468299</td>\n",
       "    </tr>\n",
       "    <tr>\n",
       "      <th>4</th>\n",
       "      <td>1/8/2008</td>\n",
       "      <td>1390.189941</td>\n",
       "      <td>86.779999</td>\n",
       "      <td>76.059998</td>\n",
       "      <td>15.590</td>\n",
       "      <td>1.557099</td>\n",
       "    </tr>\n",
       "  </tbody>\n",
       "</table>\n",
       "</div>"
      ],
      "text/plain": [
       "       Date          SPX        GLD        USO     SLV   EUR/USD\n",
       "0  1/2/2008  1447.160034  84.860001  78.470001  15.180  1.471692\n",
       "1  1/3/2008  1447.160034  85.570000  78.370003  15.285  1.474491\n",
       "2  1/4/2008  1411.630005  85.129997  77.309998  15.167  1.475492\n",
       "3  1/7/2008  1416.180054  84.769997  75.500000  15.053  1.468299\n",
       "4  1/8/2008  1390.189941  86.779999  76.059998  15.590  1.557099"
      ]
     },
     "execution_count": 3,
     "metadata": {},
     "output_type": "execute_result"
    }
   ],
   "source": [
    "gold_df = pd.read_csv(\"F:\\\\Machine learning prediction\\\\gld_price_data.csv\")\n",
    "gold_df.head()"
   ]
  },
  {
   "cell_type": "code",
   "execution_count": 4,
   "metadata": {},
   "outputs": [],
   "source": [
    "pd.set_option('display.float_format',lambda x : \"%.2f\"%x)"
   ]
  },
  {
   "cell_type": "code",
   "execution_count": 5,
   "metadata": {},
   "outputs": [
    {
     "data": {
      "text/html": [
       "<div>\n",
       "<style scoped>\n",
       "    .dataframe tbody tr th:only-of-type {\n",
       "        vertical-align: middle;\n",
       "    }\n",
       "\n",
       "    .dataframe tbody tr th {\n",
       "        vertical-align: top;\n",
       "    }\n",
       "\n",
       "    .dataframe thead th {\n",
       "        text-align: right;\n",
       "    }\n",
       "</style>\n",
       "<table border=\"1\" class=\"dataframe\">\n",
       "  <thead>\n",
       "    <tr style=\"text-align: right;\">\n",
       "      <th></th>\n",
       "      <th>Date</th>\n",
       "      <th>SPX</th>\n",
       "      <th>GLD</th>\n",
       "      <th>USO</th>\n",
       "      <th>SLV</th>\n",
       "      <th>EUR/USD</th>\n",
       "    </tr>\n",
       "  </thead>\n",
       "  <tbody>\n",
       "    <tr>\n",
       "      <th>0</th>\n",
       "      <td>1/2/2008</td>\n",
       "      <td>1447.16</td>\n",
       "      <td>84.86</td>\n",
       "      <td>78.47</td>\n",
       "      <td>15.18</td>\n",
       "      <td>1.47</td>\n",
       "    </tr>\n",
       "    <tr>\n",
       "      <th>1</th>\n",
       "      <td>1/3/2008</td>\n",
       "      <td>1447.16</td>\n",
       "      <td>85.57</td>\n",
       "      <td>78.37</td>\n",
       "      <td>15.29</td>\n",
       "      <td>1.47</td>\n",
       "    </tr>\n",
       "    <tr>\n",
       "      <th>2</th>\n",
       "      <td>1/4/2008</td>\n",
       "      <td>1411.63</td>\n",
       "      <td>85.13</td>\n",
       "      <td>77.31</td>\n",
       "      <td>15.17</td>\n",
       "      <td>1.48</td>\n",
       "    </tr>\n",
       "    <tr>\n",
       "      <th>3</th>\n",
       "      <td>1/7/2008</td>\n",
       "      <td>1416.18</td>\n",
       "      <td>84.77</td>\n",
       "      <td>75.50</td>\n",
       "      <td>15.05</td>\n",
       "      <td>1.47</td>\n",
       "    </tr>\n",
       "    <tr>\n",
       "      <th>4</th>\n",
       "      <td>1/8/2008</td>\n",
       "      <td>1390.19</td>\n",
       "      <td>86.78</td>\n",
       "      <td>76.06</td>\n",
       "      <td>15.59</td>\n",
       "      <td>1.56</td>\n",
       "    </tr>\n",
       "    <tr>\n",
       "      <th>...</th>\n",
       "      <td>...</td>\n",
       "      <td>...</td>\n",
       "      <td>...</td>\n",
       "      <td>...</td>\n",
       "      <td>...</td>\n",
       "      <td>...</td>\n",
       "    </tr>\n",
       "    <tr>\n",
       "      <th>2285</th>\n",
       "      <td>5/8/2018</td>\n",
       "      <td>2671.92</td>\n",
       "      <td>124.59</td>\n",
       "      <td>14.06</td>\n",
       "      <td>15.51</td>\n",
       "      <td>1.19</td>\n",
       "    </tr>\n",
       "    <tr>\n",
       "      <th>2286</th>\n",
       "      <td>5/9/2018</td>\n",
       "      <td>2697.79</td>\n",
       "      <td>124.33</td>\n",
       "      <td>14.37</td>\n",
       "      <td>15.53</td>\n",
       "      <td>1.18</td>\n",
       "    </tr>\n",
       "    <tr>\n",
       "      <th>2287</th>\n",
       "      <td>5/10/2018</td>\n",
       "      <td>2723.07</td>\n",
       "      <td>125.18</td>\n",
       "      <td>14.41</td>\n",
       "      <td>15.74</td>\n",
       "      <td>1.19</td>\n",
       "    </tr>\n",
       "    <tr>\n",
       "      <th>2288</th>\n",
       "      <td>5/14/2018</td>\n",
       "      <td>2730.13</td>\n",
       "      <td>124.49</td>\n",
       "      <td>14.38</td>\n",
       "      <td>15.56</td>\n",
       "      <td>1.19</td>\n",
       "    </tr>\n",
       "    <tr>\n",
       "      <th>2289</th>\n",
       "      <td>5/16/2018</td>\n",
       "      <td>2725.78</td>\n",
       "      <td>122.54</td>\n",
       "      <td>14.41</td>\n",
       "      <td>15.45</td>\n",
       "      <td>1.18</td>\n",
       "    </tr>\n",
       "  </tbody>\n",
       "</table>\n",
       "<p>2290 rows × 6 columns</p>\n",
       "</div>"
      ],
      "text/plain": [
       "           Date     SPX    GLD   USO   SLV  EUR/USD\n",
       "0      1/2/2008 1447.16  84.86 78.47 15.18     1.47\n",
       "1      1/3/2008 1447.16  85.57 78.37 15.29     1.47\n",
       "2      1/4/2008 1411.63  85.13 77.31 15.17     1.48\n",
       "3      1/7/2008 1416.18  84.77 75.50 15.05     1.47\n",
       "4      1/8/2008 1390.19  86.78 76.06 15.59     1.56\n",
       "...         ...     ...    ...   ...   ...      ...\n",
       "2285   5/8/2018 2671.92 124.59 14.06 15.51     1.19\n",
       "2286   5/9/2018 2697.79 124.33 14.37 15.53     1.18\n",
       "2287  5/10/2018 2723.07 125.18 14.41 15.74     1.19\n",
       "2288  5/14/2018 2730.13 124.49 14.38 15.56     1.19\n",
       "2289  5/16/2018 2725.78 122.54 14.41 15.45     1.18\n",
       "\n",
       "[2290 rows x 6 columns]"
      ]
     },
     "execution_count": 5,
     "metadata": {},
     "output_type": "execute_result"
    }
   ],
   "source": [
    "gold_df"
   ]
  },
  {
   "cell_type": "markdown",
   "metadata": {},
   "source": [
    "## Basic information"
   ]
  },
  {
   "cell_type": "code",
   "execution_count": 6,
   "metadata": {},
   "outputs": [
    {
     "data": {
      "text/plain": [
       "(2290, 6)"
      ]
     },
     "execution_count": 6,
     "metadata": {},
     "output_type": "execute_result"
    }
   ],
   "source": [
    "gold_df.shape"
   ]
  },
  {
   "cell_type": "code",
   "execution_count": 7,
   "metadata": {},
   "outputs": [
    {
     "data": {
      "text/html": [
       "<div>\n",
       "<style scoped>\n",
       "    .dataframe tbody tr th:only-of-type {\n",
       "        vertical-align: middle;\n",
       "    }\n",
       "\n",
       "    .dataframe tbody tr th {\n",
       "        vertical-align: top;\n",
       "    }\n",
       "\n",
       "    .dataframe thead th {\n",
       "        text-align: right;\n",
       "    }\n",
       "</style>\n",
       "<table border=\"1\" class=\"dataframe\">\n",
       "  <thead>\n",
       "    <tr style=\"text-align: right;\">\n",
       "      <th></th>\n",
       "      <th>SPX</th>\n",
       "      <th>GLD</th>\n",
       "      <th>USO</th>\n",
       "      <th>SLV</th>\n",
       "      <th>EUR/USD</th>\n",
       "    </tr>\n",
       "  </thead>\n",
       "  <tbody>\n",
       "    <tr>\n",
       "      <th>count</th>\n",
       "      <td>2290.00</td>\n",
       "      <td>2290.00</td>\n",
       "      <td>2290.00</td>\n",
       "      <td>2290.00</td>\n",
       "      <td>2290.00</td>\n",
       "    </tr>\n",
       "    <tr>\n",
       "      <th>mean</th>\n",
       "      <td>1654.32</td>\n",
       "      <td>122.73</td>\n",
       "      <td>31.84</td>\n",
       "      <td>20.08</td>\n",
       "      <td>1.28</td>\n",
       "    </tr>\n",
       "    <tr>\n",
       "      <th>std</th>\n",
       "      <td>519.11</td>\n",
       "      <td>23.28</td>\n",
       "      <td>19.52</td>\n",
       "      <td>7.09</td>\n",
       "      <td>0.13</td>\n",
       "    </tr>\n",
       "    <tr>\n",
       "      <th>min</th>\n",
       "      <td>676.53</td>\n",
       "      <td>70.00</td>\n",
       "      <td>7.96</td>\n",
       "      <td>8.85</td>\n",
       "      <td>1.04</td>\n",
       "    </tr>\n",
       "    <tr>\n",
       "      <th>25%</th>\n",
       "      <td>1239.87</td>\n",
       "      <td>109.73</td>\n",
       "      <td>14.38</td>\n",
       "      <td>15.57</td>\n",
       "      <td>1.17</td>\n",
       "    </tr>\n",
       "    <tr>\n",
       "      <th>50%</th>\n",
       "      <td>1551.43</td>\n",
       "      <td>120.58</td>\n",
       "      <td>33.87</td>\n",
       "      <td>17.27</td>\n",
       "      <td>1.30</td>\n",
       "    </tr>\n",
       "    <tr>\n",
       "      <th>75%</th>\n",
       "      <td>2073.01</td>\n",
       "      <td>132.84</td>\n",
       "      <td>37.83</td>\n",
       "      <td>22.88</td>\n",
       "      <td>1.37</td>\n",
       "    </tr>\n",
       "    <tr>\n",
       "      <th>max</th>\n",
       "      <td>2872.87</td>\n",
       "      <td>184.59</td>\n",
       "      <td>117.48</td>\n",
       "      <td>47.26</td>\n",
       "      <td>1.60</td>\n",
       "    </tr>\n",
       "  </tbody>\n",
       "</table>\n",
       "</div>"
      ],
      "text/plain": [
       "          SPX     GLD     USO     SLV  EUR/USD\n",
       "count 2290.00 2290.00 2290.00 2290.00  2290.00\n",
       "mean  1654.32  122.73   31.84   20.08     1.28\n",
       "std    519.11   23.28   19.52    7.09     0.13\n",
       "min    676.53   70.00    7.96    8.85     1.04\n",
       "25%   1239.87  109.73   14.38   15.57     1.17\n",
       "50%   1551.43  120.58   33.87   17.27     1.30\n",
       "75%   2073.01  132.84   37.83   22.88     1.37\n",
       "max   2872.87  184.59  117.48   47.26     1.60"
      ]
     },
     "execution_count": 7,
     "metadata": {},
     "output_type": "execute_result"
    }
   ],
   "source": [
    "#getting the summary statistics of each column of the data\n",
    "gold_df.describe()"
   ]
  },
  {
   "cell_type": "code",
   "execution_count": 8,
   "metadata": {},
   "outputs": [
    {
     "name": "stdout",
     "output_type": "stream",
     "text": [
      "<class 'pandas.core.frame.DataFrame'>\n",
      "RangeIndex: 2290 entries, 0 to 2289\n",
      "Data columns (total 6 columns):\n",
      " #   Column   Non-Null Count  Dtype  \n",
      "---  ------   --------------  -----  \n",
      " 0   Date     2290 non-null   object \n",
      " 1   SPX      2290 non-null   float64\n",
      " 2   GLD      2290 non-null   float64\n",
      " 3   USO      2290 non-null   float64\n",
      " 4   SLV      2290 non-null   float64\n",
      " 5   EUR/USD  2290 non-null   float64\n",
      "dtypes: float64(5), object(1)\n",
      "memory usage: 107.5+ KB\n"
     ]
    }
   ],
   "source": [
    "#getting the basic information of the data\n",
    "gold_df.info()"
   ]
  },
  {
   "cell_type": "code",
   "execution_count": 9,
   "metadata": {},
   "outputs": [
    {
     "data": {
      "text/html": [
       "<div>\n",
       "<style scoped>\n",
       "    .dataframe tbody tr th:only-of-type {\n",
       "        vertical-align: middle;\n",
       "    }\n",
       "\n",
       "    .dataframe tbody tr th {\n",
       "        vertical-align: top;\n",
       "    }\n",
       "\n",
       "    .dataframe thead th {\n",
       "        text-align: right;\n",
       "    }\n",
       "</style>\n",
       "<table border=\"1\" class=\"dataframe\">\n",
       "  <thead>\n",
       "    <tr style=\"text-align: right;\">\n",
       "      <th></th>\n",
       "      <th>Date</th>\n",
       "      <th>SPX</th>\n",
       "      <th>GLD</th>\n",
       "      <th>USO</th>\n",
       "      <th>SLV</th>\n",
       "      <th>EUR/USD</th>\n",
       "    </tr>\n",
       "  </thead>\n",
       "  <tbody>\n",
       "    <tr>\n",
       "      <th>2285</th>\n",
       "      <td>5/8/2018</td>\n",
       "      <td>2671.92</td>\n",
       "      <td>124.59</td>\n",
       "      <td>14.06</td>\n",
       "      <td>15.51</td>\n",
       "      <td>1.19</td>\n",
       "    </tr>\n",
       "    <tr>\n",
       "      <th>2286</th>\n",
       "      <td>5/9/2018</td>\n",
       "      <td>2697.79</td>\n",
       "      <td>124.33</td>\n",
       "      <td>14.37</td>\n",
       "      <td>15.53</td>\n",
       "      <td>1.18</td>\n",
       "    </tr>\n",
       "    <tr>\n",
       "      <th>2287</th>\n",
       "      <td>5/10/2018</td>\n",
       "      <td>2723.07</td>\n",
       "      <td>125.18</td>\n",
       "      <td>14.41</td>\n",
       "      <td>15.74</td>\n",
       "      <td>1.19</td>\n",
       "    </tr>\n",
       "    <tr>\n",
       "      <th>2288</th>\n",
       "      <td>5/14/2018</td>\n",
       "      <td>2730.13</td>\n",
       "      <td>124.49</td>\n",
       "      <td>14.38</td>\n",
       "      <td>15.56</td>\n",
       "      <td>1.19</td>\n",
       "    </tr>\n",
       "    <tr>\n",
       "      <th>2289</th>\n",
       "      <td>5/16/2018</td>\n",
       "      <td>2725.78</td>\n",
       "      <td>122.54</td>\n",
       "      <td>14.41</td>\n",
       "      <td>15.45</td>\n",
       "      <td>1.18</td>\n",
       "    </tr>\n",
       "  </tbody>\n",
       "</table>\n",
       "</div>"
      ],
      "text/plain": [
       "           Date     SPX    GLD   USO   SLV  EUR/USD\n",
       "2285   5/8/2018 2671.92 124.59 14.06 15.51     1.19\n",
       "2286   5/9/2018 2697.79 124.33 14.37 15.53     1.18\n",
       "2287  5/10/2018 2723.07 125.18 14.41 15.74     1.19\n",
       "2288  5/14/2018 2730.13 124.49 14.38 15.56     1.19\n",
       "2289  5/16/2018 2725.78 122.54 14.41 15.45     1.18"
      ]
     },
     "execution_count": 9,
     "metadata": {},
     "output_type": "execute_result"
    }
   ],
   "source": [
    "gold_df.tail()"
   ]
  },
  {
   "cell_type": "code",
   "execution_count": 10,
   "metadata": {},
   "outputs": [
    {
     "data": {
      "text/plain": [
       "Index(['Date', 'SPX', 'GLD', 'USO', 'SLV', 'EUR/USD'], dtype='object')"
      ]
     },
     "execution_count": 10,
     "metadata": {},
     "output_type": "execute_result"
    }
   ],
   "source": [
    "gold_df.columns"
   ]
  },
  {
   "cell_type": "markdown",
   "metadata": {},
   "source": [
    "# Data cleaning"
   ]
  },
  {
   "cell_type": "markdown",
   "metadata": {},
   "source": [
    "change data format"
   ]
  },
  {
   "cell_type": "code",
   "execution_count": 11,
   "metadata": {},
   "outputs": [],
   "source": [
    "#change the date type to data column\n",
    "gold_df['Date']=pd.to_datetime(gold_df['Date'],format = '%m/%d/%Y',errors = 'coerce')"
   ]
  },
  {
   "cell_type": "code",
   "execution_count": 12,
   "metadata": {},
   "outputs": [
    {
     "data": {
      "text/html": [
       "<div>\n",
       "<style scoped>\n",
       "    .dataframe tbody tr th:only-of-type {\n",
       "        vertical-align: middle;\n",
       "    }\n",
       "\n",
       "    .dataframe tbody tr th {\n",
       "        vertical-align: top;\n",
       "    }\n",
       "\n",
       "    .dataframe thead th {\n",
       "        text-align: right;\n",
       "    }\n",
       "</style>\n",
       "<table border=\"1\" class=\"dataframe\">\n",
       "  <thead>\n",
       "    <tr style=\"text-align: right;\">\n",
       "      <th></th>\n",
       "      <th>Date</th>\n",
       "      <th>SPX</th>\n",
       "      <th>GLD</th>\n",
       "      <th>USO</th>\n",
       "      <th>SLV</th>\n",
       "      <th>EUR/USD</th>\n",
       "    </tr>\n",
       "  </thead>\n",
       "  <tbody>\n",
       "    <tr>\n",
       "      <th>0</th>\n",
       "      <td>2008-01-02</td>\n",
       "      <td>1447.16</td>\n",
       "      <td>84.86</td>\n",
       "      <td>78.47</td>\n",
       "      <td>15.18</td>\n",
       "      <td>1.47</td>\n",
       "    </tr>\n",
       "    <tr>\n",
       "      <th>1</th>\n",
       "      <td>2008-01-03</td>\n",
       "      <td>1447.16</td>\n",
       "      <td>85.57</td>\n",
       "      <td>78.37</td>\n",
       "      <td>15.29</td>\n",
       "      <td>1.47</td>\n",
       "    </tr>\n",
       "    <tr>\n",
       "      <th>2</th>\n",
       "      <td>2008-01-04</td>\n",
       "      <td>1411.63</td>\n",
       "      <td>85.13</td>\n",
       "      <td>77.31</td>\n",
       "      <td>15.17</td>\n",
       "      <td>1.48</td>\n",
       "    </tr>\n",
       "    <tr>\n",
       "      <th>3</th>\n",
       "      <td>2008-01-07</td>\n",
       "      <td>1416.18</td>\n",
       "      <td>84.77</td>\n",
       "      <td>75.50</td>\n",
       "      <td>15.05</td>\n",
       "      <td>1.47</td>\n",
       "    </tr>\n",
       "    <tr>\n",
       "      <th>4</th>\n",
       "      <td>2008-01-08</td>\n",
       "      <td>1390.19</td>\n",
       "      <td>86.78</td>\n",
       "      <td>76.06</td>\n",
       "      <td>15.59</td>\n",
       "      <td>1.56</td>\n",
       "    </tr>\n",
       "  </tbody>\n",
       "</table>\n",
       "</div>"
      ],
      "text/plain": [
       "        Date     SPX   GLD   USO   SLV  EUR/USD\n",
       "0 2008-01-02 1447.16 84.86 78.47 15.18     1.47\n",
       "1 2008-01-03 1447.16 85.57 78.37 15.29     1.47\n",
       "2 2008-01-04 1411.63 85.13 77.31 15.17     1.48\n",
       "3 2008-01-07 1416.18 84.77 75.50 15.05     1.47\n",
       "4 2008-01-08 1390.19 86.78 76.06 15.59     1.56"
      ]
     },
     "execution_count": 12,
     "metadata": {},
     "output_type": "execute_result"
    }
   ],
   "source": [
    "gold_df.head()"
   ]
  },
  {
   "cell_type": "code",
   "execution_count": 13,
   "metadata": {},
   "outputs": [
    {
     "data": {
      "text/plain": [
       "Date       0\n",
       "SPX        0\n",
       "GLD        0\n",
       "USO        0\n",
       "SLV        0\n",
       "EUR/USD    0\n",
       "dtype: int64"
      ]
     },
     "execution_count": 13,
     "metadata": {},
     "output_type": "execute_result"
    }
   ],
   "source": [
    "#chencking the number of the missing values\n",
    "gold_df.isna().sum()"
   ]
  },
  {
   "cell_type": "markdown",
   "metadata": {},
   "source": [
    "### Correlation\n",
    "1.positive correlation\n",
    "2.Negative correlation"
   ]
  },
  {
   "cell_type": "code",
   "execution_count": 14,
   "metadata": {},
   "outputs": [
    {
     "data": {
      "text/html": [
       "<div>\n",
       "<style scoped>\n",
       "    .dataframe tbody tr th:only-of-type {\n",
       "        vertical-align: middle;\n",
       "    }\n",
       "\n",
       "    .dataframe tbody tr th {\n",
       "        vertical-align: top;\n",
       "    }\n",
       "\n",
       "    .dataframe thead th {\n",
       "        text-align: right;\n",
       "    }\n",
       "</style>\n",
       "<table border=\"1\" class=\"dataframe\">\n",
       "  <thead>\n",
       "    <tr style=\"text-align: right;\">\n",
       "      <th></th>\n",
       "      <th>SPX</th>\n",
       "      <th>GLD</th>\n",
       "      <th>USO</th>\n",
       "      <th>SLV</th>\n",
       "      <th>EUR/USD</th>\n",
       "    </tr>\n",
       "  </thead>\n",
       "  <tbody>\n",
       "    <tr>\n",
       "      <th>SPX</th>\n",
       "      <td>1.00</td>\n",
       "      <td>0.05</td>\n",
       "      <td>-0.59</td>\n",
       "      <td>-0.27</td>\n",
       "      <td>-0.67</td>\n",
       "    </tr>\n",
       "    <tr>\n",
       "      <th>GLD</th>\n",
       "      <td>0.05</td>\n",
       "      <td>1.00</td>\n",
       "      <td>-0.19</td>\n",
       "      <td>0.87</td>\n",
       "      <td>-0.02</td>\n",
       "    </tr>\n",
       "    <tr>\n",
       "      <th>USO</th>\n",
       "      <td>-0.59</td>\n",
       "      <td>-0.19</td>\n",
       "      <td>1.00</td>\n",
       "      <td>0.17</td>\n",
       "      <td>0.83</td>\n",
       "    </tr>\n",
       "    <tr>\n",
       "      <th>SLV</th>\n",
       "      <td>-0.27</td>\n",
       "      <td>0.87</td>\n",
       "      <td>0.17</td>\n",
       "      <td>1.00</td>\n",
       "      <td>0.32</td>\n",
       "    </tr>\n",
       "    <tr>\n",
       "      <th>EUR/USD</th>\n",
       "      <td>-0.67</td>\n",
       "      <td>-0.02</td>\n",
       "      <td>0.83</td>\n",
       "      <td>0.32</td>\n",
       "      <td>1.00</td>\n",
       "    </tr>\n",
       "  </tbody>\n",
       "</table>\n",
       "</div>"
      ],
      "text/plain": [
       "          SPX   GLD   USO   SLV  EUR/USD\n",
       "SPX      1.00  0.05 -0.59 -0.27    -0.67\n",
       "GLD      0.05  1.00 -0.19  0.87    -0.02\n",
       "USO     -0.59 -0.19  1.00  0.17     0.83\n",
       "SLV     -0.27  0.87  0.17  1.00     0.32\n",
       "EUR/USD -0.67 -0.02  0.83  0.32     1.00"
      ]
     },
     "execution_count": 14,
     "metadata": {},
     "output_type": "execute_result"
    }
   ],
   "source": [
    "correlation = gold_df.corr(numeric_only = True)\n",
    "correlation"
   ]
  },
  {
   "cell_type": "code",
   "execution_count": 15,
   "metadata": {},
   "outputs": [
    {
     "data": {
      "text/plain": [
       "<Axes: >"
      ]
     },
     "execution_count": 15,
     "metadata": {},
     "output_type": "execute_result"
    },
    {
     "data": {
      "image/png": "[encoded data removed]",
      "text/plain": [
       "<Figure size 500x500 with 2 Axes>"
      ]
     },
     "metadata": {},
     "output_type": "display_data"
    }
   ],
   "source": [
    "#plot the heatmap for the correlation\n",
    "plt.figure(figsize = (5,5))\n",
    "sns.heatmap(correlation,annot = True,cmap = 'Blues')"
   ]
  },
  {
   "cell_type": "code",
   "execution_count": 16,
   "metadata": {},
   "outputs": [
    {
     "data": {
      "text/plain": [
       "SPX        0.05\n",
       "GLD        1.00\n",
       "USO       -0.19\n",
       "SLV        0.87\n",
       "EUR/USD   -0.02\n",
       "Name: GLD, dtype: float64"
      ]
     },
     "execution_count": 16,
     "metadata": {},
     "output_type": "execute_result"
    }
   ],
   "source": [
    "#correlation values  of the GLD\n",
    "correlation['GLD']"
   ]
  },
  {
   "cell_type": "code",
   "execution_count": 17,
   "metadata": {},
   "outputs": [
    {
     "data": {
      "text/plain": [
       "Text(5.069444444444445, 0.5, 'Density')"
      ]
     },
     "execution_count": 17,
     "metadata": {},
     "output_type": "execute_result"
    },
    {
     "data": {
      "text/plain": [
       "<Figure size 600x600 with 0 Axes>"
      ]
     },
     "metadata": {},
     "output_type": "display_data"
    },
    {
     "data": {
      "image/png": "[encoded data removed]",
      "text/plain": [
       "<Figure size 500x500 with 1 Axes>"
      ]
     },
     "metadata": {},
     "output_type": "display_data"
    }
   ],
   "source": [
    "#chencking the distribution of the gold price\n",
    "plt.figure(figsize = (6,6))\n",
    "sns.displot(gold_df['GLD'],kde = True,color= 'green')\n",
    "plt.ylabel(\"Density\")"
   ]
  },
  {
   "cell_type": "code",
   "execution_count": 18,
   "metadata": {},
   "outputs": [
    {
     "data": {
      "text/plain": [
       "<Axes: xlabel='GLD', ylabel='Density'>"
      ]
     },
     "execution_count": 18,
     "metadata": {},
     "output_type": "execute_result"
    },
    {
     "data": {
      "image/png": "[encoded data removed]",
      "text/plain": [
       "<Figure size 640x480 with 1 Axes>"
      ]
     },
     "metadata": {},
     "output_type": "display_data"
    }
   ],
   "source": [
    "sns.kdeplot(gold_df['GLD'],color = 'green')"
   ]
  },
  {
   "cell_type": "markdown",
   "metadata": {},
   "source": [
    "# Splitting the features and target"
   ]
  },
  {
   "cell_type": "code",
   "execution_count": 19,
   "metadata": {},
   "outputs": [
    {
     "name": "stdout",
     "output_type": "stream",
     "text": [
      "         SPX   USO   SLV  EUR/USD\n",
      "0    1447.16 78.47 15.18     1.47\n",
      "1    1447.16 78.37 15.29     1.47\n",
      "2    1411.63 77.31 15.17     1.48\n",
      "3    1416.18 75.50 15.05     1.47\n",
      "4    1390.19 76.06 15.59     1.56\n",
      "...      ...   ...   ...      ...\n",
      "2285 2671.92 14.06 15.51     1.19\n",
      "2286 2697.79 14.37 15.53     1.18\n",
      "2287 2723.07 14.41 15.74     1.19\n",
      "2288 2730.13 14.38 15.56     1.19\n",
      "2289 2725.78 14.41 15.45     1.18\n",
      "\n",
      "[2290 rows x 4 columns]\n"
     ]
    }
   ],
   "source": [
    "X = gold_df.drop(columns = ['Date','GLD'])\n",
    "print(X)"
   ]
  },
  {
   "cell_type": "code",
   "execution_count": 20,
   "metadata": {},
   "outputs": [
    {
     "name": "stdout",
     "output_type": "stream",
     "text": [
      "0       84.86\n",
      "1       85.57\n",
      "2       85.13\n",
      "3       84.77\n",
      "4       86.78\n",
      "        ...  \n",
      "2285   124.59\n",
      "2286   124.33\n",
      "2287   125.18\n",
      "2288   124.49\n",
      "2289   122.54\n",
      "Name: GLD, Length: 2290, dtype: float64\n"
     ]
    }
   ],
   "source": [
    "Y = gold_df['GLD']\n",
    "print(Y)"
   ]
  },
  {
   "cell_type": "markdown",
   "metadata": {},
   "source": [
    "### Splitting into training data and test data"
   ]
  },
  {
   "cell_type": "code",
   "execution_count": 21,
   "metadata": {},
   "outputs": [],
   "source": [
    "#Using sklearn train test split module\n",
    "X_train,X_test,Y_train,Y_test = train_test_split(X,Y,test_size = 0.20,random_state = 2)"
   ]
  },
  {
   "cell_type": "code",
   "execution_count": 22,
   "metadata": {},
   "outputs": [
    {
     "name": "stdout",
     "output_type": "stream",
     "text": [
      "(2290, 4)\n",
      "(1832, 4)\n",
      "(458, 4)\n"
     ]
    }
   ],
   "source": [
    "#find the shape the train and test data for X\n",
    "print(X.shape)\n",
    "print(X_train.shape)\n",
    "print(X_test.shape)"
   ]
  },
  {
   "cell_type": "code",
   "execution_count": 23,
   "metadata": {},
   "outputs": [
    {
     "name": "stdout",
     "output_type": "stream",
     "text": [
      "(2290,)\n",
      "(1832,)\n",
      "(458,)\n"
     ]
    }
   ],
   "source": [
    "#find the shape the train and test data for Y\n",
    "print(Y.shape)\n",
    "print(Y_train.shape)\n",
    "print(Y_test.shape)"
   ]
  },
  {
   "cell_type": "markdown",
   "metadata": {},
   "source": [
    "# MODEL TRAINING :Random forest regressor"
   ]
  },
  {
   "cell_type": "code",
   "execution_count": 24,
   "metadata": {},
   "outputs": [],
   "source": [
    "from sklearn.ensemble import RandomForestRegressor"
   ]
  },
  {
   "cell_type": "code",
   "execution_count": 25,
   "metadata": {},
   "outputs": [],
   "source": [
    "#create the object for random forest regressor\n",
    "regressor = RandomForestRegressor(n_estimators = 100)"
   ]
  },
  {
   "cell_type": "code",
   "execution_count": 26,
   "metadata": {},
   "outputs": [
    {
     "data": {
      "text/html": [
       "<style>#sk-container-id-1 {\n",
       "  /* Definition of color scheme common for light and dark mode */\n",
       "  --sklearn-color-text: black;\n",
       "  --sklearn-color-line: gray;\n",
       "  /* Definition of color scheme for unfitted estimators */\n",
       "  --sklearn-color-unfitted-level-0: #fff5e6;\n",
       "  --sklearn-color-unfitted-level-1: #f6e4d2;\n",
       "  --sklearn-color-unfitted-level-2: #ffe0b3;\n",
       "  --sklearn-color-unfitted-level-3: chocolate;\n",
       "  /* Definition of color scheme for fitted estimators */\n",
       "  --sklearn-color-fitted-level-0: #f0f8ff;\n",
       "  --sklearn-color-fitted-level-1: #d4ebff;\n",
       "  --sklearn-color-fitted-level-2: #b3dbfd;\n",
       "  --sklearn-color-fitted-level-3: cornflowerblue;\n",
       "\n",
       "  /* Specific color for light theme */\n",
       "  --sklearn-color-text-on-default-background: var(--sg-text-color, var(--theme-code-foreground, var(--jp-content-font-color1, black)));\n",
       "  --sklearn-color-background: var(--sg-background-color, var(--theme-background, var(--jp-layout-color0, white)));\n",
       "  --sklearn-color-border-box: var(--sg-text-color, var(--theme-code-foreground, var(--jp-content-font-color1, black)));\n",
       "  --sklearn-color-icon: #696969;\n",
       "\n",
       "  @media (prefers-color-scheme: dark) {\n",
       "    /* Redefinition of color scheme for dark theme */\n",
       "    --sklearn-color-text-on-default-background: var(--sg-text-color, var(--theme-code-foreground, var(--jp-content-font-color1, white)));\n",
       "    --sklearn-color-background: var(--sg-background-color, var(--theme-background, var(--jp-layout-color0, #111)));\n",
       "    --sklearn-color-border-box: var(--sg-text-color, var(--theme-code-foreground, var(--jp-content-font-color1, white)));\n",
       "    --sklearn-color-icon: #878787;\n",
       "  }\n",
       "}\n",
       "\n",
       "#sk-container-id-1 {\n",
       "  color: var(--sklearn-color-text);\n",
       "}\n",
       "\n",
       "#sk-container-id-1 pre {\n",
       "  padding: 0;\n",
       "}\n",
       "\n",
       "#sk-container-id-1 input.sk-hidden--visually {\n",
       "  border: 0;\n",
       "  clip: rect(1px 1px 1px 1px);\n",
       "  clip: rect(1px, 1px, 1px, 1px);\n",
       "  height: 1px;\n",
       "  margin: -1px;\n",
       "  overflow: hidden;\n",
       "  padding: 0;\n",
       "  position: absolute;\n",
       "  width: 1px;\n",
       "}\n",
       "\n",
       "#sk-container-id-1 div.sk-dashed-wrapped {\n",
       "  border: 1px dashed var(--sklearn-color-line);\n",
       "  margin: 0 0.4em 0.5em 0.4em;\n",
       "  box-sizing: border-box;\n",
       "  padding-bottom: 0.4em;\n",
       "  background-color: var(--sklearn-color-background);\n",
       "}\n",
       "\n",
       "#sk-container-id-1 div.sk-container {\n",
       "  /* jupyter's `normalize.less` sets `[hidden] { display: none; }`\n",
       "     but bootstrap.min.css set `[hidden] { display: none !important; }`\n",
       "     so we also need the `!important` here to be able to override the\n",
       "     default hidden behavior on the sphinx rendered scikit-learn.org.\n",
       "     See: https://github.com/scikit-learn/scikit-learn/issues/21755 */\n",
       "  display: inline-block !important;\n",
       "  position: relative;\n",
       "}\n",
       "\n",
       "#sk-container-id-1 div.sk-text-repr-fallback {\n",
       "  display: none;\n",
       "}\n",
       "\n",
       "div.sk-parallel-item,\n",
       "div.sk-serial,\n",
       "div.sk-item {\n",
       "  /* draw centered vertical line to link estimators */\n",
       "  background-image: linear-gradient(var(--sklearn-color-text-on-default-background), var(--sklearn-color-text-on-default-background));\n",
       "  background-size: 2px 100%;\n",
       "  background-repeat: no-repeat;\n",
       "  background-position: center center;\n",
       "}\n",
       "\n",
       "/* Parallel-specific style estimator block */\n",
       "\n",
       "#sk-container-id-1 div.sk-parallel-item::after {\n",
       "  content: \"\";\n",
       "  width: 100%;\n",
       "  border-bottom: 2px solid var(--sklearn-color-text-on-default-background);\n",
       "  flex-grow: 1;\n",
       "}\n",
       "\n",
       "#sk-container-id-1 div.sk-parallel {\n",
       "  display: flex;\n",
       "  align-items: stretch;\n",
       "  justify-content: center;\n",
       "  background-color: var(--sklearn-color-background);\n",
       "  position: relative;\n",
       "}\n",
       "\n",
       "#sk-container-id-1 div.sk-parallel-item {\n",
       "  display: flex;\n",
       "  flex-direction: column;\n",
       "}\n",
       "\n",
       "#sk-container-id-1 div.sk-parallel-item:first-child::after {\n",
       "  align-self: flex-end;\n",
       "  width: 50%;\n",
       "}\n",
       "\n",
       "#sk-container-id-1 div.sk-parallel-item:last-child::after {\n",
       "  align-self: flex-start;\n",
       "  width: 50%;\n",
       "}\n",
       "\n",
       "#sk-container-id-1 div.sk-parallel-item:only-child::after {\n",
       "  width: 0;\n",
       "}\n",
       "\n",
       "/* Serial-specific style estimator block */\n",
       "\n",
       "#sk-container-id-1 div.sk-serial {\n",
       "  display: flex;\n",
       "  flex-direction: column;\n",
       "  align-items: center;\n",
       "  background-color: var(--sklearn-color-background);\n",
       "  padding-right: 1em;\n",
       "  padding-left: 1em;\n",
       "}\n",
       "\n",
       "\n",
       "/* Toggleable style: style used for estimator/Pipeline/ColumnTransformer box that is\n",
       "clickable and can be expanded/collapsed.\n",
       "- Pipeline and ColumnTransformer use this feature and define the default style\n",
       "- Estimators will overwrite some part of the style using the `sk-estimator` class\n",
       "*/\n",
       "\n",
       "/* Pipeline and ColumnTransformer style (default) */\n",
       "\n",
       "#sk-container-id-1 div.sk-toggleable {\n",
       "  /* Default theme specific background. It is overwritten whether we have a\n",
       "  specific estimator or a Pipeline/ColumnTransformer */\n",
       "  background-color: var(--sklearn-color-background);\n",
       "}\n",
       "\n",
       "/* Toggleable label */\n",
       "#sk-container-id-1 label.sk-toggleable__label {\n",
       "  cursor: pointer;\n",
       "  display: block;\n",
       "  width: 100%;\n",
       "  margin-bottom: 0;\n",
       "  padding: 0.5em;\n",
       "  box-sizing: border-box;\n",
       "  text-align: center;\n",
       "}\n",
       "\n",
       "#sk-container-id-1 label.sk-toggleable__label-arrow:before {\n",
       "  /* Arrow on the left of the label */\n",
       "  content: \"▸\";\n",
       "  float: left;\n",
       "  margin-right: 0.25em;\n",
       "  color: var(--sklearn-color-icon);\n",
       "}\n",
       "\n",
       "#sk-container-id-1 label.sk-toggleable__label-arrow:hover:before {\n",
       "  color: var(--sklearn-color-text);\n",
       "}\n",
       "\n",
       "/* Toggleable content - dropdown */\n",
       "\n",
       "#sk-container-id-1 div.sk-toggleable__content {\n",
       "  max-height: 0;\n",
       "  max-width: 0;\n",
       "  overflow: hidden;\n",
       "  text-align: left;\n",
       "  /* unfitted */\n",
       "  background-color: var(--sklearn-color-unfitted-level-0);\n",
       "}\n",
       "\n",
       "#sk-container-id-1 div.sk-toggleable__content.fitted {\n",
       "  /* fitted */\n",
       "  background-color: var(--sklearn-color-fitted-level-0);\n",
       "}\n",
       "\n",
       "#sk-container-id-1 div.sk-toggleable__content pre {\n",
       "  margin: 0.2em;\n",
       "  border-radius: 0.25em;\n",
       "  color: var(--sklearn-color-text);\n",
       "  /* unfitted */\n",
       "  background-color: var(--sklearn-color-unfitted-level-0);\n",
       "}\n",
       "\n",
       "#sk-container-id-1 div.sk-toggleable__content.fitted pre {\n",
       "  /* unfitted */\n",
       "  background-color: var(--sklearn-color-fitted-level-0);\n",
       "}\n",
       "\n",
       "#sk-container-id-1 input.sk-toggleable__control:checked~div.sk-toggleable__content {\n",
       "  /* Expand drop-down */\n",
       "  max-height: 200px;\n",
       "  max-width: 100%;\n",
       "  overflow: auto;\n",
       "}\n",
       "\n",
       "#sk-container-id-1 input.sk-toggleable__control:checked~label.sk-toggleable__label-arrow:before {\n",
       "  content: \"▾\";\n",
       "}\n",
       "\n",
       "/* Pipeline/ColumnTransformer-specific style */\n",
       "\n",
       "#sk-container-id-1 div.sk-label input.sk-toggleable__control:checked~label.sk-toggleable__label {\n",
       "  color: var(--sklearn-color-text);\n",
       "  background-color: var(--sklearn-color-unfitted-level-2);\n",
       "}\n",
       "\n",
       "#sk-container-id-1 div.sk-label.fitted input.sk-toggleable__control:checked~label.sk-toggleable__label {\n",
       "  background-color: var(--sklearn-color-fitted-level-2);\n",
       "}\n",
       "\n",
       "/* Estimator-specific style */\n",
       "\n",
       "/* Colorize estimator box */\n",
       "#sk-container-id-1 div.sk-estimator input.sk-toggleable__control:checked~label.sk-toggleable__label {\n",
       "  /* unfitted */\n",
       "  background-color: var(--sklearn-color-unfitted-level-2);\n",
       "}\n",
       "\n",
       "#sk-container-id-1 div.sk-estimator.fitted input.sk-toggleable__control:checked~label.sk-toggleable__label {\n",
       "  /* fitted */\n",
       "  background-color: var(--sklearn-color-fitted-level-2);\n",
       "}\n",
       "\n",
       "#sk-container-id-1 div.sk-label label.sk-toggleable__label,\n",
       "#sk-container-id-1 div.sk-label label {\n",
       "  /* The background is the default theme color */\n",
       "  color: var(--sklearn-color-text-on-default-background);\n",
       "}\n",
       "\n",
       "/* On hover, darken the color of the background */\n",
       "#sk-container-id-1 div.sk-label:hover label.sk-toggleable__label {\n",
       "  color: var(--sklearn-color-text);\n",
       "  background-color: var(--sklearn-color-unfitted-level-2);\n",
       "}\n",
       "\n",
       "/* Label box, darken color on hover, fitted */\n",
       "#sk-container-id-1 div.sk-label.fitted:hover label.sk-toggleable__label.fitted {\n",
       "  color: var(--sklearn-color-text);\n",
       "  background-color: var(--sklearn-color-fitted-level-2);\n",
       "}\n",
       "\n",
       "/* Estimator label */\n",
       "\n",
       "#sk-container-id-1 div.sk-label label {\n",
       "  font-family: monospace;\n",
       "  font-weight: bold;\n",
       "  display: inline-block;\n",
       "  line-height: 1.2em;\n",
       "}\n",
       "\n",
       "#sk-container-id-1 div.sk-label-container {\n",
       "  text-align: center;\n",
       "}\n",
       "\n",
       "/* Estimator-specific */\n",
       "#sk-container-id-1 div.sk-estimator {\n",
       "  font-family: monospace;\n",
       "  border: 1px dotted var(--sklearn-color-border-box);\n",
       "  border-radius: 0.25em;\n",
       "  box-sizing: border-box;\n",
       "  margin-bottom: 0.5em;\n",
       "  /* unfitted */\n",
       "  background-color: var(--sklearn-color-unfitted-level-0);\n",
       "}\n",
       "\n",
       "#sk-container-id-1 div.sk-estimator.fitted {\n",
       "  /* fitted */\n",
       "  background-color: var(--sklearn-color-fitted-level-0);\n",
       "}\n",
       "\n",
       "/* on hover */\n",
       "#sk-container-id-1 div.sk-estimator:hover {\n",
       "  /* unfitted */\n",
       "  background-color: var(--sklearn-color-unfitted-level-2);\n",
       "}\n",
       "\n",
       "#sk-container-id-1 div.sk-estimator.fitted:hover {\n",
       "  /* fitted */\n",
       "  background-color: var(--sklearn-color-fitted-level-2);\n",
       "}\n",
       "\n",
       "/* Specification for estimator info (e.g. \"i\" and \"?\") */\n",
       "\n",
       "/* Common style for \"i\" and \"?\" */\n",
       "\n",
       ".sk-estimator-doc-link,\n",
       "a:link.sk-estimator-doc-link,\n",
       "a:visited.sk-estimator-doc-link {\n",
       "  float: right;\n",
       "  font-size: smaller;\n",
       "  line-height: 1em;\n",
       "  font-family: monospace;\n",
       "  background-color: var(--sklearn-color-background);\n",
       "  border-radius: 1em;\n",
       "  height: 1em;\n",
       "  width: 1em;\n",
       "  text-decoration: none !important;\n",
       "  margin-left: 1ex;\n",
       "  /* unfitted */\n",
       "  border: var(--sklearn-color-unfitted-level-1) 1pt solid;\n",
       "  color: var(--sklearn-color-unfitted-level-1);\n",
       "}\n",
       "\n",
       ".sk-estimator-doc-link.fitted,\n",
       "a:link.sk-estimator-doc-link.fitted,\n",
       "a:visited.sk-estimator-doc-link.fitted {\n",
       "  /* fitted */\n",
       "  border: var(--sklearn-color-fitted-level-1) 1pt solid;\n",
       "  color: var(--sklearn-color-fitted-level-1);\n",
       "}\n",
       "\n",
       "/* On hover */\n",
       "div.sk-estimator:hover .sk-estimator-doc-link:hover,\n",
       ".sk-estimator-doc-link:hover,\n",
       "div.sk-label-container:hover .sk-estimator-doc-link:hover,\n",
       ".sk-estimator-doc-link:hover {\n",
       "  /* unfitted */\n",
       "  background-color: var(--sklearn-color-unfitted-level-3);\n",
       "  color: var(--sklearn-color-background);\n",
       "  text-decoration: none;\n",
       "}\n",
       "\n",
       "div.sk-estimator.fitted:hover .sk-estimator-doc-link.fitted:hover,\n",
       ".sk-estimator-doc-link.fitted:hover,\n",
       "div.sk-label-container:hover .sk-estimator-doc-link.fitted:hover,\n",
       ".sk-estimator-doc-link.fitted:hover {\n",
       "  /* fitted */\n",
       "  background-color: var(--sklearn-color-fitted-level-3);\n",
       "  color: var(--sklearn-color-background);\n",
       "  text-decoration: none;\n",
       "}\n",
       "\n",
       "/* Span, style for the box shown on hovering the info icon */\n",
       ".sk-estimator-doc-link span {\n",
       "  display: none;\n",
       "  z-index: 9999;\n",
       "  position: relative;\n",
       "  font-weight: normal;\n",
       "  right: .2ex;\n",
       "  padding: .5ex;\n",
       "  margin: .5ex;\n",
       "  width: min-content;\n",
       "  min-width: 20ex;\n",
       "  max-width: 50ex;\n",
       "  color: var(--sklearn-color-text);\n",
       "  box-shadow: 2pt 2pt 4pt #999;\n",
       "  /* unfitted */\n",
       "  background: var(--sklearn-color-unfitted-level-0);\n",
       "  border: .5pt solid var(--sklearn-color-unfitted-level-3);\n",
       "}\n",
       "\n",
       ".sk-estimator-doc-link.fitted span {\n",
       "  /* fitted */\n",
       "  background: var(--sklearn-color-fitted-level-0);\n",
       "  border: var(--sklearn-color-fitted-level-3);\n",
       "}\n",
       "\n",
       ".sk-estimator-doc-link:hover span {\n",
       "  display: block;\n",
       "}\n",
       "\n",
       "/* \"?\"-specific style due to the `<a>` HTML tag */\n",
       "\n",
       "#sk-container-id-1 a.estimator_doc_link {\n",
       "  float: right;\n",
       "  font-size: 1rem;\n",
       "  line-height: 1em;\n",
       "  font-family: monospace;\n",
       "  background-color: var(--sklearn-color-background);\n",
       "  border-radius: 1rem;\n",
       "  height: 1rem;\n",
       "  width: 1rem;\n",
       "  text-decoration: none;\n",
       "  /* unfitted */\n",
       "  color: var(--sklearn-color-unfitted-level-1);\n",
       "  border: var(--sklearn-color-unfitted-level-1) 1pt solid;\n",
       "}\n",
       "\n",
       "#sk-container-id-1 a.estimator_doc_link.fitted {\n",
       "  /* fitted */\n",
       "  border: var(--sklearn-color-fitted-level-1) 1pt solid;\n",
       "  color: var(--sklearn-color-fitted-level-1);\n",
       "}\n",
       "\n",
       "/* On hover */\n",
       "#sk-container-id-1 a.estimator_doc_link:hover {\n",
       "  /* unfitted */\n",
       "  background-color: var(--sklearn-color-unfitted-level-3);\n",
       "  color: var(--sklearn-color-background);\n",
       "  text-decoration: none;\n",
       "}\n",
       "\n",
       "#sk-container-id-1 a.estimator_doc_link.fitted:hover {\n",
       "  /* fitted */\n",
       "  background-color: var(--sklearn-color-fitted-level-3);\n",
       "}\n",
       "</style><div id=\"sk-container-id-1\" class=\"sk-top-container\"><div class=\"sk-text-repr-fallback\"><pre>RandomForestRegressor()</pre><b>In a Jupyter environment, please rerun this cell to show the HTML representation or trust the notebook. <br />On GitHub, the HTML representation is unable to render, please try loading this page with nbviewer.org.</b></div><div class=\"sk-container\" hidden><div class=\"sk-item\"><div class=\"sk-estimator fitted sk-toggleable\"><input class=\"sk-toggleable__control sk-hidden--visually\" id=\"sk-estimator-id-1\" type=\"checkbox\" checked><label for=\"sk-estimator-id-1\" class=\"sk-toggleable__label fitted sk-toggleable__label-arrow fitted\">&nbsp;&nbsp;RandomForestRegressor<a class=\"sk-estimator-doc-link fitted\" rel=\"noreferrer\" target=\"_blank\" href=\"https://scikit-learn.org/1.4/modules/generated/sklearn.ensemble.RandomForestRegressor.html\">?<span>Documentation for RandomForestRegressor</span></a><span class=\"sk-estimator-doc-link fitted\">i<span>Fitted</span></span></label><div class=\"sk-toggleable__content fitted\"><pre>RandomForestRegressor()</pre></div> </div></div></div></div>"
      ],
      "text/plain": [
       "RandomForestRegressor()"
      ]
     },
     "execution_count": 26,
     "metadata": {},
     "output_type": "execute_result"
    }
   ],
   "source": [
    "#training the model\n",
    "regressor.fit(X_train,Y_train)"
   ]
  },
  {
   "cell_type": "markdown",
   "metadata": {},
   "source": [
    "## Model evaluation"
   ]
  },
  {
   "cell_type": "code",
   "execution_count": 27,
   "metadata": {},
   "outputs": [
    {
     "name": "stdout",
     "output_type": "stream",
     "text": [
      "[168.57849948  82.29749972 116.04480027 127.72500042 120.67900129\n",
      " 154.77959745 150.40859831 126.05650023 117.44869857 125.98150092\n",
      " 117.08410072 172.4128009  141.25679831 167.75449841 115.04950015\n",
      " 117.48890047 138.57430235 170.24680078 159.10330245 158.37599936\n",
      " 155.24620033 125.35950012 176.40539954 157.22710361 125.27450043\n",
      "  93.99289961  77.55869994 120.5852996  119.07389936 167.51740049\n",
      "  88.15560051 125.34039993  91.17060075 117.66930001 121.12979934\n",
      " 136.53160055 115.40910127 114.9576009  147.56419951 106.98170116\n",
      " 104.6263024   87.16399791 126.52320035 118.14009996 154.94019933\n",
      " 119.67710026 108.46949949 107.92519827  93.1835003  127.08309785\n",
      "  74.90450026 113.67559952 121.21590008 111.16219926 118.7505988\n",
      " 120.60169913 159.7354003  168.83140108 146.88059735  85.89289852\n",
      "  94.48340027  86.78259842  90.62940023 119.04020074 126.49610065\n",
      " 127.61640018 169.50129942 122.20499938 117.23329879  98.45790038\n",
      " 168.44200034 142.82039742 131.92360259 121.2503021  121.21119948\n",
      " 119.72950067 114.5475015  118.33740049 106.88390118 127.80550033\n",
      " 114.14089991 107.52629979 117.35799994 119.75529871  88.87730069\n",
      "  88.25839868 145.95020201 127.56749975 113.5774004  110.31819835\n",
      " 108.24649898  77.42029893 168.58340055 114.11459918 121.53299926\n",
      " 127.91910163 155.03949802  91.67979937 135.60570081 158.83530338\n",
      " 125.33890052 125.58590047 130.62210136 114.84220141 119.79409985\n",
      "  92.19410004 110.61789888 166.79459865 156.99509903 114.25389945\n",
      " 106.35680156  79.18129991 113.19880061 125.87690072 107.26309929\n",
      " 119.0712008  155.56720361 159.738999   120.47479973 133.66300223\n",
      " 101.42830024 117.5174981  119.28820026 112.95430078 102.76289923\n",
      " 160.07319761  99.45020056 146.861099   125.56090093 170.08799887\n",
      " 125.72859893 127.34999725 127.57070218 113.74849907 113.070201\n",
      " 123.78659897 102.23999935  88.78630036 124.76829951 101.38679945\n",
      " 107.20619934 113.69030061 117.3297008   99.26259944 122.03380024\n",
      " 163.39319843  87.29699857 106.6002001  117.22340063 127.68550089\n",
      " 124.27670082  80.62979932 120.19020068 157.58739856  87.6908997\n",
      " 110.12459946 119.00549922 172.54789861 103.00309892 105.6729006\n",
      " 122.37380011 158.57829787  87.68799829  93.18580009 112.75510047\n",
      " 177.50569888 114.54999977 119.21980023  94.64940111 125.67540009\n",
      " 165.99680138 114.72140112 116.8093011   88.2850986  148.7087007\n",
      " 120.32179976  89.69629997 112.44799998 117.5301008  118.77830134\n",
      "  88.30879991  94.20370034 116.8419     118.51560165 120.25150081\n",
      " 126.72169851 121.90459946 150.71620052 164.75530144 118.57349972\n",
      " 120.48090173 150.74260068 118.71849961 173.0287989  105.74939914\n",
      " 104.9383013  148.97650084 113.70450082 124.92510112 146.82549975\n",
      " 119.6723014  115.38480062 112.76819988 113.38090178 140.93920137\n",
      " 117.88129762 102.94580045 115.92410123 103.9845017   98.94390037\n",
      " 117.24080094  90.68749992  91.60170035 153.22739886 102.75969966\n",
      " 155.2262008  114.38260163 139.03190097  90.16359871 115.4789999\n",
      " 114.1654998  123.00320022 121.69540016 165.28400186  92.88139962\n",
      " 135.34740099 121.30499946 120.62630087 104.48170012 143.01750264\n",
      " 121.40999911 116.69440036 113.63040096 127.05399804 122.32479953\n",
      " 125.77369939 121.23170054  86.86259889 132.42890163 143.83250184\n",
      "  92.7094996  158.13799949 158.86190281 126.36429862 164.98209959\n",
      " 108.77999987 109.75540063 103.70689826  94.30970109 127.88030304\n",
      " 106.97960075 162.15359963 122.04920016 131.96729979 130.62400122\n",
      " 160.5517001   90.1085988  175.56460272 127.75489997 126.85419854\n",
      "  86.53999907 124.68039934 150.21099743  89.73520012 106.66360005\n",
      " 109.16779974  84.0658991  136.04279979 154.91620209 139.33910358\n",
      "  73.77880019 152.56370179 126.14919986 126.82149984 127.46169936\n",
      " 108.80829911 156.3813999  114.53000136 116.99130157 125.65189971\n",
      " 154.02560165 121.34449999 156.23259907  92.95040068 125.56540136\n",
      " 126.23110056  87.60200005  92.10899907 126.40829913 128.53630406\n",
      " 113.2056007  117.95529749 120.64410033 127.07009802 119.54620107\n",
      " 136.4506009   93.91999952 119.97260049 113.30320107  94.37949949\n",
      " 108.62599959  86.85069917 109.25499954  89.5889      92.42110013\n",
      " 131.71330351 162.45990074  89.37240014 119.62860066 133.3688019\n",
      " 123.85730045 128.62570222 101.99019842  88.78799887 131.1108005\n",
      " 119.7741005  109.07839984 168.10100086 115.11620047  86.61919902\n",
      " 118.83390092  91.06419957 162.0817997  116.58990043 121.64370003\n",
      " 160.24609782 120.29239922 112.54059945 108.50019873 126.79959985\n",
      "  75.90730023 103.01719986 127.744503   121.91709917  92.58280042\n",
      " 132.08700081 118.05070119 115.83939985 154.58370277 160.15690081\n",
      " 110.12889981 154.56449746 119.22040108 160.5561011  118.50130057\n",
      " 158.19809898 114.99549924 116.38950033 148.13519855 114.90250063\n",
      " 125.5668986  166.41109866 117.72959986 125.19889923 153.09710373\n",
      " 153.41790217 132.10550034 114.76880026 121.24450187 125.1005006\n",
      "  89.70170024 123.17110035 155.51710266 111.71750037 106.45840014\n",
      " 162.22270132 118.56300009 165.81430019 133.89810105 114.81879969\n",
      " 152.86499843 168.89620054 114.63460008 114.11990142 157.31759878\n",
      "  85.18229914 127.03500112 127.84150082 128.84000049 124.20220047\n",
      " 123.83940037  90.62590122 153.34170007  96.99129995 137.5509003\n",
      "  89.11479946 107.43199984 114.97790048 112.29960091 124.38669937\n",
      "  91.44379893 125.28840137 162.45039947 120.0705986  165.2047006\n",
      " 126.73059833 112.17900018 127.66669943  95.28909924  90.89610032\n",
      " 103.30489919 120.63180003  82.89469953 126.2798003  160.092104\n",
      " 117.20170098 118.18629973 119.81709976 122.62299991 120.12200136\n",
      " 121.63310005 118.00550045 107.24230008 148.25099984 126.23829867\n",
      " 115.63380075  74.06919994 127.77400099 154.18380058 122.44670038\n",
      " 125.62660035  88.76350043 104.19979893 124.82630009 120.18670038\n",
      "  73.4154007  152.18279961 121.04670038 104.6369001   86.5094979\n",
      " 115.21319882 172.27359839 119.74520056 160.08329777 113.13529971\n",
      " 121.18080022 118.38920151  95.9215999  118.60789996 125.89030026\n",
      " 118.69689932  96.49740088 154.32730157 121.92949977 147.25119944\n",
      " 159.57700198 113.72400025 122.53419925 149.73149784 127.4496005\n",
      " 165.94360002 135.42840013 119.98579928 166.86969876 108.25009956\n",
      " 121.61119866 139.19760024 106.93229893]\n"
     ]
    }
   ],
   "source": [
    "#Prediction on the test data\n",
    "test_data_prediction = regressor.predict(X_test)\n",
    "print(test_data_prediction)"
   ]
  },
  {
   "cell_type": "code",
   "execution_count": 28,
   "metadata": {},
   "outputs": [
    {
     "data": {
      "text/plain": [
       "903    168.02\n",
       "129     81.23\n",
       "1787   112.32\n",
       "1913   127.59\n",
       "2048   119.62\n",
       "        ...  \n",
       "923    166.38\n",
       "1693   106.38\n",
       "2054   122.24\n",
       "658    133.83\n",
       "376    102.36\n",
       "Name: GLD, Length: 458, dtype: float64"
      ]
     },
     "execution_count": 28,
     "metadata": {},
     "output_type": "execute_result"
    }
   ],
   "source": [
    "Y_test"
   ]
  },
  {
   "cell_type": "code",
   "execution_count": 29,
   "metadata": {},
   "outputs": [
    {
     "name": "stdout",
     "output_type": "stream",
     "text": [
      "R square error : 0.9889619755231116\n"
     ]
    }
   ],
   "source": [
    "# R square error\n",
    "r_score = metrics.r2_score(Y_test,test_data_prediction)\n",
    "print('R square error :', r_score)"
   ]
  },
  {
   "cell_type": "markdown",
   "metadata": {},
   "source": [
    "### compare the actual values and predicted values in plot"
   ]
  },
  {
   "cell_type": "code",
   "execution_count": 30,
   "metadata": {},
   "outputs": [
    {
     "name": "stdout",
     "output_type": "stream",
     "text": [
      "[168.020004, 81.230003, 112.32, 127.589996, 119.620003, 154.210007, 148.910004, 126.190002, 117.470001, 125.739998, 115.379997, 167.119995, 141.630005, 169.559998, 115.599998, 119.669998, 132.949997, 170.399994, 159.369995, 173.529999, 154.720001, 128.119995, 177.720001, 157.190002, 125.309998, 93.400002, 76.790001, 119.690002, 118.989998, 167.389999, 87.5, 124.980003, 91.230003, 115.489998, 120.949997, 133.809998, 116.690002, 113.809998, 133.580002, 105.970001, 105.120003, 87.959999, 126.82, 116.860001, 159.259995, 119.459999, 109.160004, 108.620003, 93.269997, 127.160004, 72.260002, 113.470001, 119.68, 109.139999, 119.309998, 120.050003, 159.889999, 161.490005, 146.740005, 85.809998, 93.709999, 85.550003, 91.029999, 118.489998, 126.449997, 126.980003, 171.699997, 122.400002, 116.410004, 97.959999, 169.630005, 142.639999, 131.809998, 121.360001, 124.0, 119.699997, 113.889999, 118.919998, 105.639999, 127.669998, 114.32, 107.309998, 114.82, 119.230003, 86.860001, 87.010002, 147.729996, 128.199997, 113.260002, 110.82, 107.360001, 74.220001, 172.940002, 114.099998, 121.650002, 129.110001, 156.770004, 91.660004, 133.479996, 161.029999, 128.470001, 125.75, 132.289993, 114.019997, 118.230003, 93.709999, 111.150002, 164.289993, 157.770004, 115.510002, 107.129997, 83.309998, 115.150002, 125.540001, 106.080002, 120.580002, 157.139999, 161.059998, 120.309998, 133.070007, 103.949997, 116.360001, 119.309998, 112.370003, 102.839996, 161.199997, 97.050003, 147.830002, 125.32, 171.139999, 123.540001, 127.07, 127.959999, 114.830002, 111.540001, 122.849998, 100.5, 90.040001, 123.989998, 98.900002, 106.169998, 110.82, 120.389999, 98.849998, 122.449997, 162.300003, 86.650002, 106.150002, 116.43, 127.959999, 122.830002, 80.760002, 119.529999, 159.729996, 88.470001, 110.160004, 115.940002, 170.75, 102.339996, 105.019997, 122.730003, 160.330002, 86.949997, 93.190002, 111.43, 172.360001, 114.120003, 120.129997, 93.699997, 126.089996, 167.619995, 116.330002, 117.120003, 87.25, 149.199997, 118.690002, 89.419998, 113.650002, 115.519997, 118.669998, 86.989998, 93.830002, 116.550003, 118.300003, 121.800003, 127.660004, 122.699997, 137.710007, 163.630005, 118.43, 120.870003, 152.619995, 117.959999, 160.639999, 99.910004, 104.269997, 149.820007, 110.449997, 125.440002, 145.649994, 120.220001, 115.68, 113.029999, 112.150002, 134.050003, 118.059998, 102.610001, 116.339996, 104.68, 98.830002, 116.089996, 91.089996, 92.080002, 154.669998, 102.43, 154.770004, 113.68, 138.089996, 91.330002, 116.330002, 115.669998, 122.5438, 122.290001, 166.020004, 92.739998, 137.240005, 121.309998, 119.550003, 104.669998, 135.050003, 122.919998, 115.620003, 113.150002, 124.269997, 123.349998, 125.779999, 121.559998, 85.82, 132.449997, 154.869995, 92.059998, 148.970001, 161.880005, 127.199997, 167.350006, 108.559998, 110.440002, 104.209999, 95.769997, 129.470001, 108.349998, 149.119995, 121.730003, 131.699997, 131.960007, 160.990005, 90.57, 173.889999, 128.089996, 127.550003, 86.779999, 123.940002, 150.419998, 89.269997, 108.050003, 111.019997, 89.18, 138.369995, 156.220001, 134.660004, 73.580002, 152.970001, 126.559998, 126.139999, 127.75, 108.360001, 157.460007, 114.0, 116.989998, 126.860001, 155.240005, 120.650002, 156.990005, 92.790001, 125.389999, 124.889999, 88.25, 91.93, 126.339996, 128.839996, 112.889999, 117.360001, 119.739998, 128.179993, 121.480003, 134.199997, 93.900002, 118.900002, 112.300003, 94.779999, 108.699997, 86.709999, 110.260002, 88.639999, 93.239998, 131.320007, 163.089996, 90.120003, 119.82, 133.940002, 125.839996, 127.739998, 101.459999, 89.18, 132.199997, 122.150002, 110.529999, 172.070007, 115.279999, 85.389999, 121.959999, 90.760002, 161.300003, 116.519997, 120.400002, 160.490005, 121.489998, 114.949997, 109.980003, 126.529999, 73.449997, 102.040001, 130.229996, 121.099998, 91.169998, 132.089996, 117.970001, 116.110001, 156.25, 161.600006, 110.209999, 135.410004, 119.040001, 162.020004, 118.080002, 159.699997, 114.43, 117.980003, 147.770004, 115.330002, 126.230003, 165.589996, 116.790001, 125.029999, 153.229996, 153.470001, 132.809998, 115.029999, 120.959999, 126.470001, 93.089996, 122.519997, 151.410004, 111.669998, 106.949997, 162.619995, 120.050003, 165.160004, 131.570007, 116.169998, 152.990005, 169.429993, 110.57, 115.379997, 161.199997, 85.43, 128.110001, 127.269997, 129.210007, 125.610001, 124.230003, 91.099998, 151.619995, 96.089996, 136.179993, 90.25, 106.93, 115.470001, 111.540001, 126.309998, 90.919998, 125.410004, 163.350006, 117.959999, 166.070007, 127.790001, 111.5, 127.580002, 96.910004, 89.980003, 99.339996, 120.419998, 82.199997, 125.370003, 159.429993, 117.099998, 120.730003, 118.650002, 120.620003, 119.480003, 121.18, 118.809998, 107.559998, 146.380005, 122.830002, 115.43, 71.709999, 128.070007, 157.199997, 120.860001, 126.239998, 89.010002, 102.550003, 124.32, 119.910004, 72.150002, 150.75, 120.029999, 104.099998, 86.230003, 113.580002, 172.100006, 121.480003, 161.539993, 112.769997, 122.419998, 120.940002, 95.989998, 120.760002, 125.32, 118.080002, 97.730003, 154.649994, 120.589996, 143.470001, 160.589996, 111.629997, 122.120003, 146.240005, 127.959999, 164.119995, 133.429993, 122.379997, 166.380005, 106.379997, 122.239998, 133.830002, 102.360001]\n"
     ]
    }
   ],
   "source": [
    "y_test = list(Y_test)\n",
    "print(y_test)"
   ]
  },
  {
   "cell_type": "code",
   "execution_count": 31,
   "metadata": {},
   "outputs": [
    {
     "data": {
      "image/png": "[encoded data removed]",
      "text/plain": [
       "<Figure size 800x800 with 1 Axes>"
      ]
     },
     "metadata": {},
     "output_type": "display_data"
    }
   ],
   "source": [
    "plt.figure(figsize = (8,8))\n",
    "plt.plot(y_test,color = 'blue',label = 'Actual values')\n",
    "plt.plot(test_data_prediction,color = 'green',label = 'Predicted values')\n",
    "plt.title(\"Actual price vs Predicted price\")\n",
    "plt.xlabel(\"Number of the values\")\n",
    "plt.ylabel(\"GLD Price\")\n",
    "plt.legend()\n",
    "plt.show()"
   ]
  },
  {
   "cell_type": "markdown",
   "metadata": {},
   "source": [
    "## Saving the model"
   ]
  },
  {
   "cell_type": "code",
   "execution_count": 32,
   "metadata": {},
   "outputs": [],
   "source": [
    "import pickle\n",
    "\n",
    "with open(\"F:\\\\Machine learning prediction\\\\gold_price_predict.pkl\",\"wb\") as f:\n",
    "    pickle.dump(regressor,f)"
   ]
  },
  {
   "cell_type": "code",
   "execution_count": 1,
   "metadata": {},
   "outputs": [],
   "source": [
    "# load the model pickel \n",
    "import pickle\n",
    "\n",
    "with open(\"F:\\\\Machine learning prediction\\\\gold_price_predict.pkl\",\"rb\") as f:\n",
    "    model = pickle.load(f)"
   ]
  },
  {
   "cell_type": "code",
   "execution_count": 2,
   "metadata": {},
   "outputs": [
    {
     "name": "stderr",
     "output_type": "stream",
     "text": [
      "C:\\Users\\lenovo\\AppData\\Roaming\\Python\\Python311\\site-packages\\sklearn\\base.py:493: UserWarning: X does not have valid feature names, but RandomForestRegressor was fitted with feature names\n",
      "  warnings.warn(\n"
     ]
    },
    {
     "data": {
      "text/plain": [
       "array([84.75870024])"
      ]
     },
     "execution_count": 2,
     "metadata": {},
     "output_type": "execute_result"
    }
   ],
   "source": [
    "model.predict([[1447.16,78.47,15.18,1.47]])"
   ]
  },
  {
   "cell_type": "code",
   "execution_count": 38,
   "metadata": {},
   "outputs": [
    {
     "data": {
      "text/plain": [
       "['F:\\\\Machine learning prediction\\\\goldprice_joblib.pkl']"
      ]
     },
     "execution_count": 38,
     "metadata": {},
     "output_type": "execute_result"
    }
   ],
   "source": [
    "import joblib\n",
    "\n",
    "joblib.dump(regressor,\"F:\\\\Machine learning prediction\\\\goldprice_joblib.pkl\")"
   ]
  },
  {
   "cell_type": "code",
   "execution_count": 4,
   "metadata": {},
   "outputs": [
    {
     "name": "stderr",
     "output_type": "stream",
     "text": [
      "C:\\Users\\lenovo\\AppData\\Roaming\\Python\\Python311\\site-packages\\sklearn\\base.py:493: UserWarning: X does not have valid feature names, but RandomForestRegressor was fitted with feature names\n",
      "  warnings.warn(\n"
     ]
    },
    {
     "data": {
      "text/plain": [
       "array([84.75870024])"
      ]
     },
     "execution_count": 4,
     "metadata": {},
     "output_type": "execute_result"
    }
   ],
   "source": [
    "import joblib\n",
    "model = joblib.load(\"F:\\\\Machine learning prediction\\\\goldprice_joblib.pkl\")\n",
    "model.predict([[1447.16,78.47,15.18,1.47]])"
   ]
  },
  {
   "cell_type": "code",
   "execution_count": 41,
   "metadata": {},
   "outputs": [
    {
     "data": {
      "text/html": [
       "<div>\n",
       "<style scoped>\n",
       "    .dataframe tbody tr th:only-of-type {\n",
       "        vertical-align: middle;\n",
       "    }\n",
       "\n",
       "    .dataframe tbody tr th {\n",
       "        vertical-align: top;\n",
       "    }\n",
       "\n",
       "    .dataframe thead th {\n",
       "        text-align: right;\n",
       "    }\n",
       "</style>\n",
       "<table border=\"1\" class=\"dataframe\">\n",
       "  <thead>\n",
       "    <tr style=\"text-align: right;\">\n",
       "      <th></th>\n",
       "      <th>SPX</th>\n",
       "      <th>USO</th>\n",
       "      <th>SLV</th>\n",
       "      <th>EUR/USD</th>\n",
       "    </tr>\n",
       "  </thead>\n",
       "  <tbody>\n",
       "    <tr>\n",
       "      <th>0</th>\n",
       "      <td>1447.16</td>\n",
       "      <td>78.47</td>\n",
       "      <td>15.18</td>\n",
       "      <td>1.47</td>\n",
       "    </tr>\n",
       "    <tr>\n",
       "      <th>1</th>\n",
       "      <td>1447.16</td>\n",
       "      <td>78.37</td>\n",
       "      <td>15.29</td>\n",
       "      <td>1.47</td>\n",
       "    </tr>\n",
       "    <tr>\n",
       "      <th>2</th>\n",
       "      <td>1411.63</td>\n",
       "      <td>77.31</td>\n",
       "      <td>15.17</td>\n",
       "      <td>1.48</td>\n",
       "    </tr>\n",
       "    <tr>\n",
       "      <th>3</th>\n",
       "      <td>1416.18</td>\n",
       "      <td>75.50</td>\n",
       "      <td>15.05</td>\n",
       "      <td>1.47</td>\n",
       "    </tr>\n",
       "    <tr>\n",
       "      <th>4</th>\n",
       "      <td>1390.19</td>\n",
       "      <td>76.06</td>\n",
       "      <td>15.59</td>\n",
       "      <td>1.56</td>\n",
       "    </tr>\n",
       "    <tr>\n",
       "      <th>...</th>\n",
       "      <td>...</td>\n",
       "      <td>...</td>\n",
       "      <td>...</td>\n",
       "      <td>...</td>\n",
       "    </tr>\n",
       "    <tr>\n",
       "      <th>2285</th>\n",
       "      <td>2671.92</td>\n",
       "      <td>14.06</td>\n",
       "      <td>15.51</td>\n",
       "      <td>1.19</td>\n",
       "    </tr>\n",
       "    <tr>\n",
       "      <th>2286</th>\n",
       "      <td>2697.79</td>\n",
       "      <td>14.37</td>\n",
       "      <td>15.53</td>\n",
       "      <td>1.18</td>\n",
       "    </tr>\n",
       "    <tr>\n",
       "      <th>2287</th>\n",
       "      <td>2723.07</td>\n",
       "      <td>14.41</td>\n",
       "      <td>15.74</td>\n",
       "      <td>1.19</td>\n",
       "    </tr>\n",
       "    <tr>\n",
       "      <th>2288</th>\n",
       "      <td>2730.13</td>\n",
       "      <td>14.38</td>\n",
       "      <td>15.56</td>\n",
       "      <td>1.19</td>\n",
       "    </tr>\n",
       "    <tr>\n",
       "      <th>2289</th>\n",
       "      <td>2725.78</td>\n",
       "      <td>14.41</td>\n",
       "      <td>15.45</td>\n",
       "      <td>1.18</td>\n",
       "    </tr>\n",
       "  </tbody>\n",
       "</table>\n",
       "<p>2290 rows × 4 columns</p>\n",
       "</div>"
      ],
      "text/plain": [
       "         SPX   USO   SLV  EUR/USD\n",
       "0    1447.16 78.47 15.18     1.47\n",
       "1    1447.16 78.37 15.29     1.47\n",
       "2    1411.63 77.31 15.17     1.48\n",
       "3    1416.18 75.50 15.05     1.47\n",
       "4    1390.19 76.06 15.59     1.56\n",
       "...      ...   ...   ...      ...\n",
       "2285 2671.92 14.06 15.51     1.19\n",
       "2286 2697.79 14.37 15.53     1.18\n",
       "2287 2723.07 14.41 15.74     1.19\n",
       "2288 2730.13 14.38 15.56     1.19\n",
       "2289 2725.78 14.41 15.45     1.18\n",
       "\n",
       "[2290 rows x 4 columns]"
      ]
     },
     "execution_count": 41,
     "metadata": {},
     "output_type": "execute_result"
    }
   ],
   "source": [
    "X"
   ]
  },
  {
   "cell_type": "code",
   "execution_count": null,
   "metadata": {},
   "outputs": [],
   "source": []
  }
 ],
 "metadata": {
  "kernelspec": {
   "display_name": "Python 3",
   "language": "python",
   "name": "python3"
  },
  "language_info": {
   "codemirror_mode": {
    "name": "ipython",
    "version": 3
   },
   "file_extension": ".py",
   "mimetype": "text/x-python",
   "name": "python",
   "nbconvert_exporter": "python",
   "pygments_lexer": "ipython3",
   "version": "3.11.2"
  }
 },
 "nbformat": 4,
 "nbformat_minor": 2
}
